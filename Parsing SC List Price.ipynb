{
 "cells": [
  {
   "cell_type": "code",
   "execution_count": 36,
   "metadata": {},
   "outputs": [],
   "source": [
    "import requests\n",
    "from bs4 import BeautifulSoup\n",
    "import ast\n",
    "import pandas as pd"
   ]
  },
  {
   "cell_type": "code",
   "execution_count": 37,
   "metadata": {},
   "outputs": [],
   "source": [
    "website_fxp = 'https://www.schmalz.com/en/vacuum-technology-for-automation/vacuum-components/area-gripping-systems-and-end-effectors/vacuum-area-gripping-system-fxp-fmp/area-gripping-systems-fxp?limit=50'\n",
    "website_fmp = 'https://www.schmalz.com/en/vacuum-technology-for-automation/vacuum-components/area-gripping-systems-and-end-effectors/vacuum-area-gripping-system-fxp-fmp/area-gripping-systems-fmp?limit=50'"
   ]
  },
  {
   "cell_type": "markdown",
   "metadata": {},
   "source": [
    "Check the headers for your session, otherwise the price will not appear unless you are logged in on the Schmalz Website. You have to paste the cookie key of the HTTP request so that the below script will work."
   ]
  },
  {
   "cell_type": "code",
   "execution_count": 29,
   "metadata": {},
   "outputs": [],
   "source": [
    "headers = {'Accept': 'text/html,application/xhtml+xml,application/xml;q=0.9,image/webp,image/apng,*/*;q=0.8',\n",
    "'Accept-Encoding': 'gzip, deflate, br',\n",
    "'Accept-Language': 'en-US,en;q=0.9',\n",
    "'Cache-Control': 'no-cache',\n",
    "'Connection': 'keep-alive',\n",
    "'Cookie': 'gtm_internal=false; gtm_internal=false; _ga=GA1.2.556035030.1542078213; GTM_CURID=187722; PHPSESSID=bp409o9suus77d4o8o75b9eg84; _cid=tEh9E3yJEMp5rcOo; countryCluster=US; frontend_cid=IZJ9Ys5yxO3aT3kX; _gid=GA1.2.1671424653.1543214833; currentStoreId=2; frontend=clo6et0glairm8igc101vmum14; schmalz_current_currency=USD; schmalz_current_currency_symbol=%24; reference_pl_id=WEB-US-USD; GTM_LOGIN=1; _gat_UA-42003922-1=1',\n",
    "'Host': 'www.schmalz.com',\n",
    "'Pragma': 'no-cache',\n",
    "'Upgrade-Insecure-Requests': '1',\n",
    "'User-Agent': 'Mozilla/5.0 (Windows NT 10.0; Win64; x64) AppleWebKit/537.36 (KHTML, like Gecko) Chrome/70.0.3538.110 Safari/537.36'}"
   ]
  },
  {
   "cell_type": "code",
   "execution_count": 30,
   "metadata": {},
   "outputs": [],
   "source": [
    "data_fxp = requests.get(website_fxp,headers=headers).text\n",
    "data_fmp = requests.get(website_fmp,headers=headers).text\n",
    "soup_fxp = BeautifulSoup(data_fxp,'lxml')\n",
    "soup_fmp = BeautifulSoup(data_fmp,'lxml')\n",
    "#Total number of items\n",
    "tot_items_fxp = int(soup_fxp.find('input',id='jsCollSize')['value'])\n",
    "tot_items_fmp = int(soup_fmp.find('input',id='jsCollSize')['value'])\n",
    "number_pages_fxp = tot_items_fxp//50+1\n",
    "number_pages_fmp = tot_items_fmp//50+1"
   ]
  },
  {
   "cell_type": "code",
   "execution_count": 33,
   "metadata": {},
   "outputs": [],
   "source": [
    "df_list = []\n",
    "for page_number in (range(1,number_pages_fxp+1)):\n",
    "    website_fxp_page = website_fxp+f'&p={page_number}'\n",
    "    data = requests.get(website_fxp_page,headers=headers).text\n",
    "    soup = BeautifulSoup(data,'lxml')\n",
    "    \n",
    "    #information-block soup variable\n",
    "    info_block = soup.find_all('div',attrs={'class':'information-block'})\n",
    "    \n",
    "    #create sub_dataframes with pricing information \n",
    "    names = [tag.find('a',attrs={'class':'h3'})['title'] for tag in info_block]\n",
    "    df_price_list = [tag.find('span',attrs={'class':'jsSchmalzPrice'}).text.strip() for tag in info_block]\n",
    "    df_price_list = [pd.DataFrame(ast.literal_eval(s),columns=['reference_pl_id','value']) for s in df_price_list]\n",
    "    \n",
    "    #replace commas with points in all dataframes and append the names of the product\n",
    "    for name,price_df in zip(names,df_price_list):\n",
    "        price_df['value'] = price_df['value'].apply(lambda x: x.replace(',','.'))\n",
    "        price_df['name'] = name\n",
    "        df_list.append(price_df)\n",
    "\n",
    "for page_number in (range(1,number_pages_fmp+1)):\n",
    "    website_fmp_page = website_fmp+f'&p={page_number}'\n",
    "    data = requests.get(website_fmp_page,headers=headers).text\n",
    "    soup = BeautifulSoup(data,'lxml')\n",
    "    \n",
    "    #information-block soup variable\n",
    "    info_block = soup.find_all('div',attrs={'class':'information-block'})\n",
    "    #create sub_dataframes with pricing information \n",
    "    names = [tag.find('a',attrs={'class':'h3'})['title'] for tag in info_block]\n",
    "    df_price_list = [tag.find('span',attrs={'class':'jsSchmalzPrice'}).text.strip() for tag in info_block]\n",
    "    df_price_list = [pd.DataFrame(ast.literal_eval(s),columns=['reference_pl_id','value']) for s in df_price_list]\n",
    "    \n",
    "    #replace commas with points in all dataframes and append the names of the product\n",
    "    for name,price_df in zip(names,df_price_list):\n",
    "        price_df['value'] = price_df['value'].apply(lambda x: x.replace(',','.'))\n",
    "        price_df['name'] = name\n",
    "        df_list.append(price_df)"
   ]
  },
  {
   "cell_type": "code",
   "execution_count": 214,
   "metadata": {},
   "outputs": [],
   "source": [
    "#concatenate dataframe, add currency table"
   ]
  },
  {
   "cell_type": "code",
   "execution_count": 34,
   "metadata": {},
   "outputs": [],
   "source": [
    "schmalz_pricing = pd.concat(df_list).reset_index(drop=True)\n",
    "schmalz_pricing['currency'] = schmalz_pricing['reference_pl_id'].apply(lambda x:x[-3:])\n",
    "schmalz_pricing = schmalz_pricing[['name','value','currency','reference_pl_id']]"
   ]
  },
  {
   "cell_type": "code",
   "execution_count": 35,
   "metadata": {},
   "outputs": [],
   "source": [
    "schmalz_pricing.to_csv(r'C:\\Users\\Stephane\\Desktop\\sc_price.csv',index=False)"
   ]
  },
  {
   "cell_type": "code",
   "execution_count": null,
   "metadata": {},
   "outputs": [],
   "source": []
  }
 ],
 "metadata": {
  "kernelspec": {
   "display_name": "Python 3",
   "language": "python",
   "name": "python3"
  },
  "language_info": {
   "codemirror_mode": {
    "name": "ipython",
    "version": 3
   },
   "file_extension": ".py",
   "mimetype": "text/x-python",
   "name": "python",
   "nbconvert_exporter": "python",
   "pygments_lexer": "ipython3",
   "version": "3.7.0"
  }
 },
 "nbformat": 4,
 "nbformat_minor": 2
}
